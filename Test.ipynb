{
 "cells": [
  {
   "cell_type": "code",
   "execution_count": 12,
   "metadata": {},
   "outputs": [
    {
     "name": "stdout",
     "output_type": "stream",
     "text": [
      "Its male voice\n"
     ]
    }
   ],
   "source": [
    "#Credits:-R script was taken from Pritam Solank github repo.\n",
    "import pandas as pd\n",
    "import os\n",
    "import pickle\n",
    "os.system(\"D:/R/R-3.6.1/bin/Rscript.exe C:/Users/ADMIN/Desktop/Gender_Identification_by_voice/ExtractFeatures.R\") \n",
    "#To make it work on another system the user must change the working directory to current directory in Extract_feature.r file\n",
    "#Also the path to Rscript.exe has to be changed.\n",
    "\n",
    "test_df = pd.read_csv('myvoice2.csv')\n",
    "new_data=test_df[[\"meanfreq\",\"sd\",\"median\",\"Q25\",\"Q75\",\"IQR\",\"skew\",\"kurt\",\"sp.ent\",\"sfm\",\"mode\",\"centroid\",\"meanfun\",\"minfun\",\"maxfun\",\"meandom\",\"mindom\",\"maxdom\",\"dfrange\",\"modindx\"]]\n",
    "\n",
    "\n",
    "X=new_data.iloc[:,:].values\n",
    "model=pickle.load(open('voice_model.pickle','rb'))\n",
    "if model.predict(X)[0]==0:\n",
    "    print(\"Its male voice\")\n",
    "else:\n",
    "    print(\"Its female voice\")\n",
    "\n"
   ]
  },
  {
   "cell_type": "code",
   "execution_count": null,
   "metadata": {},
   "outputs": [],
   "source": []
  }
 ],
 "metadata": {
  "kernelspec": {
   "display_name": "TensorFlow-GPU",
   "language": "python",
   "name": "tensorflow"
  },
  "language_info": {
   "codemirror_mode": {
    "name": "ipython",
    "version": 3
   },
   "file_extension": ".py",
   "mimetype": "text/x-python",
   "name": "python",
   "nbconvert_exporter": "python",
   "pygments_lexer": "ipython3",
   "version": "3.6.8"
  }
 },
 "nbformat": 4,
 "nbformat_minor": 2
}
